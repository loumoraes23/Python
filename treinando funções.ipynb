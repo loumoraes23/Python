{
 "cells": [
  {
   "cell_type": "code",
   "execution_count": 35,
   "id": "fd3b85cc",
   "metadata": {},
   "outputs": [
    {
     "name": "stdout",
     "output_type": "stream",
     "text": [
      "R$ 20\n",
      "R$20,00\n",
      "R$20\n",
      "primeira função\n",
      "23 prova:  23\n",
      "8 15\n",
      "120 123\n"
     ]
    }
   ],
   "source": [
    "a=15\n",
    "b=8\n",
    "\n",
    "\n",
    "\n",
    "def funcao_1():\n",
    "    print('primeira função')\n",
    "    \n",
    "\n",
    "    \n",
    "def funcao_2():\n",
    "    valor=20\n",
    "    print('R$',valor)\n",
    "    print(f'R${valor},00')\n",
    "    print(f'R${int(valor)}')\n",
    "\n",
    "    \n",
    "    \n",
    "def funcao_3(a, b):\n",
    "    prova=a+b\n",
    "    print(a+b , 'prova: ', prova)\n",
    "  \n",
    "\n",
    "def funcao_4( abc, bbb ):\n",
    "    print( bbb,abc )\n",
    "    \n",
    "    teste=abc*bbb\n",
    "    num=teste + 3\n",
    "    \n",
    "    return teste, num\n",
    "    \n",
    "   \n",
    "\n",
    "\n",
    "funcao_2()\n",
    "funcao_1()\n",
    "funcao_3(a, b)\n",
    "teste, num = funcao_4(a, b)\n",
    "print(teste, num) \n",
    "#print(teste, num = funcao_4(a, b))"
   ]
  },
  {
   "cell_type": "code",
   "execution_count": 40,
   "id": "22184661",
   "metadata": {},
   "outputs": [
    {
     "name": "stdout",
     "output_type": "stream",
     "text": [
      "erro no try\n"
     ]
    }
   ],
   "source": [
    "try:\n",
    "    koikok\n",
    "    print('estou dentro do try')\n",
    "except:\n",
    "    print('erro no try')\n",
    "    "
   ]
  },
  {
   "cell_type": "code",
   "execution_count": 39,
   "id": "334c95d3",
   "metadata": {},
   "outputs": [
    {
     "name": "stdout",
     "output_type": "stream",
     "text": [
      "Erro 01: name 'kohyhyhyhyhyh' is not defined\n"
     ]
    }
   ],
   "source": [
    "try:\n",
    "    kohyhyhyhyhyh\n",
    "    print('estou dentro do try')\n",
    "except Exception as e:\n",
    "    print(f'Erro 01: {str(e)}')"
   ]
  },
  {
   "cell_type": "code",
   "execution_count": null,
   "id": "e43906eb",
   "metadata": {},
   "outputs": [],
   "source": []
  }
 ],
 "metadata": {
  "kernelspec": {
   "display_name": "Python 3 (ipykernel)",
   "language": "python",
   "name": "python3"
  },
  "language_info": {
   "codemirror_mode": {
    "name": "ipython",
    "version": 3
   },
   "file_extension": ".py",
   "mimetype": "text/x-python",
   "name": "python",
   "nbconvert_exporter": "python",
   "pygments_lexer": "ipython3",
   "version": "3.9.13"
  }
 },
 "nbformat": 4,
 "nbformat_minor": 5
}
