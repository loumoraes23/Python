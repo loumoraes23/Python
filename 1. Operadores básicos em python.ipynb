{
 "cells": [
  {
   "cell_type": "markdown",
   "id": "cc92b98f",
   "metadata": {},
   "source": [
    " Tipos básicos de operadores"
   ]
  },
  {
   "cell_type": "code",
   "execution_count": 3,
   "id": "93959b56",
   "metadata": {},
   "outputs": [
    {
     "name": "stdout",
     "output_type": "stream",
     "text": [
      "True\n",
      "False\n",
      "2.2\n",
      "Aqui eu falo português\n",
      "as duplas também funcionam\n",
      "você é muito, muito, muito, legal!\n",
      "[1, 2, 3]\n",
      "{'nome': 'Pedro', 'idade': 22}\n",
      "None\n"
     ]
    }
   ],
   "source": [
    "\n",
    "print(True)\n",
    "\n",
    "print(False)\n",
    "\n",
    "print(1.2 + 1)\n",
    "\n",
    "print('Aqui eu falo português')\n",
    "\n",
    "print(\"as duplas também funcionam\")\n",
    "\n",
    "print('você é ' + 3 * 'muito, ' + 'legal!')\n",
    "\n",
    "#ambiguidade. print(3 + 'a') \n",
    "\n",
    "#ambiguidade. print(3 + '3')\n",
    "\n",
    "print([1, 2, 3])#lista. estrutura indexada.\n",
    "\n",
    "print({'nome': 'Pedro', 'idade' : 22}) #dicionário. Chave e valor.\n",
    "\n",
    "print(None)\n",
    "\n"
   ]
  },
  {
   "cell_type": "code",
   "execution_count": null,
   "id": "0a796f9a",
   "metadata": {},
   "outputs": [],
   "source": []
  }
 ],
 "metadata": {
  "kernelspec": {
   "display_name": "Python 3 (ipykernel)",
   "language": "python",
   "name": "python3"
  },
  "language_info": {
   "codemirror_mode": {
    "name": "ipython",
    "version": 3
   },
   "file_extension": ".py",
   "mimetype": "text/x-python",
   "name": "python",
   "nbconvert_exporter": "python",
   "pygments_lexer": "ipython3",
   "version": "3.9.13"
  }
 },
 "nbformat": 4,
 "nbformat_minor": 5
}
