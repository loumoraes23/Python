{
 "cells": [
  {
   "cell_type": "markdown",
   "id": "a1ba9eec",
   "metadata": {},
   "source": [
    " Tipos básicos de operadores"
   ]
  },
  {
   "cell_type": "code",
   "execution_count": 2,
   "id": "7cd4e3f1",
   "metadata": {},
   "outputs": [
    {
     "ename": "SyntaxError",
     "evalue": "invalid syntax (3565793042.py, line 26)",
     "output_type": "error",
     "traceback": [
      "\u001b[1;36m  File \u001b[1;32m\"C:\\Users\\Louise\\AppData\\Local\\Temp\\ipykernel_2820\\3565793042.py\"\u001b[1;36m, line \u001b[1;32m26\u001b[0m\n\u001b[1;33m    Aqui eu falo português\u001b[0m\n\u001b[1;37m         ^\u001b[0m\n\u001b[1;31mSyntaxError\u001b[0m\u001b[1;31m:\u001b[0m invalid syntax\n"
     ]
    }
   ],
   "source": [
    "\n",
    "print(True)\n",
    "\n",
    "print(False)\n",
    "\n",
    "print(1.2 + 1)\n",
    "\n",
    "print('Aqui eu falo português')\n",
    "\n",
    "print(\"as duplas também funcionam\")\n",
    "\n",
    "print('você é ' + 3 * 'muito, ' + 'legal!')\n",
    "\n",
    "#ambiguidade. print(3 + 'a') \n",
    "\n",
    "#ambiguidade. print(3 + '3')\n",
    "\n",
    "print([1, 2, 3])#lista. estrutura indexada.\n",
    "\n",
    "print({'nome': 'Pedro', 'idade' : 22}) #dicionário. Chave e valor.\n",
    "\n",
    "print(None)\n",
    "\n",
    "True\n",
    "False\n",
    "2.2\n",
    "Aqui eu falo português\n",
    "as duplas também funcionam\n",
    "você é muito, muito, muito, legal!\n",
    "[1, 2, 3]\n",
    "{'nome': 'Pedro', 'idade': 22}\n",
    "None\n"
   ]
  },
  {
   "cell_type": "code",
   "execution_count": null,
   "id": "d1389e24",
   "metadata": {},
   "outputs": [],
   "source": []
  }
 ],
 "metadata": {
  "kernelspec": {
   "display_name": "Python 3 (ipykernel)",
   "language": "python",
   "name": "python3"
  },
  "language_info": {
   "codemirror_mode": {
    "name": "ipython",
    "version": 3
   },
   "file_extension": ".py",
   "mimetype": "text/x-python",
   "name": "python",
   "nbconvert_exporter": "python",
   "pygments_lexer": "ipython3",
   "version": "3.9.13"
  }
 },
 "nbformat": 4,
 "nbformat_minor": 5
}
