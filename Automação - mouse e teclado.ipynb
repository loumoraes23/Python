{
 "cells": [
  {
   "cell_type": "markdown",
   "id": "c5ed7a98",
   "metadata": {},
   "source": [
    "!pip install pyautogui pyperclip pywinauto"
   ]
  },
  {
   "cell_type": "markdown",
   "id": "7a6c7f47",
   "metadata": {},
   "source": [
    "import pyautogui\n",
    "import pyperclip\n",
    "import time\n",
    "import ctypes"
   ]
  },
  {
   "cell_type": "code",
   "execution_count": 65,
   "id": "3bb9bd5b",
   "metadata": {},
   "outputs": [],
   "source": [
    "# intervalo de 2 seg entre cada execução\n",
    "pyautogui.PAUSE=2\n"
   ]
  },
  {
   "cell_type": "code",
   "execution_count": 66,
   "id": "1c8c88ef",
   "metadata": {},
   "outputs": [
    {
     "name": "stdout",
     "output_type": "stream",
     "text": [
      "Point(x=1714, y=297)\n"
     ]
    }
   ],
   "source": [
    "time.sleep(5)\n",
    "print(pyautogui.position())"
   ]
  },
  {
   "cell_type": "code",
   "execution_count": 67,
   "id": "929c1d9d",
   "metadata": {},
   "outputs": [],
   "source": [
    "pyautogui.click(1362, 743)"
   ]
  },
  {
   "cell_type": "markdown",
   "id": "bb3b8340",
   "metadata": {},
   "source": [
    "pyautogui.hotkey('win', 'r')\n",
    "temp='temp'\n",
    "pyperclip.copy(temp)\n",
    "pyautogui.hotkey('ctrl','v')\n",
    "pyautogui.press('enter')\n",
    "pyautogui.press('enter')\n",
    "time.sleep(1)\n",
    "#IMPORTANTE A TELA ESTAR MAXIMIZADA\n",
    "pyautogui.hotkey('win','up')\n",
    "pyautogui.click(762, 18)\n",
    "pyautogui.hotkey('ctrl', 'a')\n",
    "pyautogui.hotkey('del')\n",
    "time.sleep(5)\n",
    "pyautogui.hotkey('alt','f4')\n"
   ]
  },
  {
   "cell_type": "markdown",
   "id": "ab8df194",
   "metadata": {},
   "source": [
    "pyautogui.hotkey('win', 'r')\n",
    "temp='%temp%'\n",
    "pyperclip.copy(temp)\n",
    "pyautogui.hotkey('ctrl','v')\n",
    "pyautogui.press('enter')\n",
    "pyautogui.press('enter')\n",
    "time.sleep(1)\n",
    "#IMPORTANTE A TELA ESTAR MAXIMIZADA\n",
    "pyautogui.hotkey('win','up')\n",
    "pyautogui.click(762, 18)\n",
    "pyautogui.hotkey('ctrl', 'a')\n",
    "pyautogui.hotkey('del')\n",
    "time.sleep(5)\n",
    "pyautogui.hotkey('alt','f4')\n"
   ]
  },
  {
   "cell_type": "markdown",
   "id": "a9a274a1",
   "metadata": {},
   "source": [
    "pyautogui.hotkey('win', 'r')\n",
    "temp='prefetch'\n",
    "pyperclip.copy(temp)\n",
    "pyautogui.hotkey('ctrl','v')\n",
    "pyautogui.press('enter')\n",
    "pyautogui.press('enter')\n",
    "time.sleep(1)\n",
    "#IMPORTANTE A TELA ESTAR MAXIMIZADA\n",
    "pyautogui.hotkey('win','up')\n",
    "pyautogui.click(762, 18)\n",
    "pyautogui.hotkey('ctrl', 'a')\n",
    "pyautogui.hotkey('del')\n",
    "time.sleep(5)\n",
    "pyautogui.hotkey('alt','f4')"
   ]
  },
  {
   "cell_type": "code",
   "execution_count": 68,
   "id": "aa5e9156",
   "metadata": {},
   "outputs": [],
   "source": [
    "pyautogui.rightClick(21, 747)\n",
    "pyautogui.click(175, 470)\n",
    "time.sleep(1)\n",
    "\n",
    "\n"
   ]
  },
  {
   "cell_type": "code",
   "execution_count": 69,
   "id": "b5f54575",
   "metadata": {},
   "outputs": [
    {
     "ename": "TypeError",
     "evalue": "start() got an unexpected keyword argument 'admin_rights'",
     "output_type": "error",
     "traceback": [
      "\u001b[1;31m---------------------------------------------------------------------------\u001b[0m",
      "\u001b[1;31mTypeError\u001b[0m                                 Traceback (most recent call last)",
      "\u001b[1;32m~\\AppData\\Local\\Temp\\ipykernel_5744\\2973294135.py\u001b[0m in \u001b[0;36m<module>\u001b[1;34m\u001b[0m\n\u001b[0;32m      3\u001b[0m \u001b[1;33m\u001b[0m\u001b[0m\n\u001b[0;32m      4\u001b[0m \u001b[1;31m# Abrir o terminal do Windows como administrador\u001b[0m\u001b[1;33m\u001b[0m\u001b[1;33m\u001b[0m\u001b[0m\n\u001b[1;32m----> 5\u001b[1;33m \u001b[0mapp\u001b[0m \u001b[1;33m=\u001b[0m \u001b[0mpywinauto\u001b[0m\u001b[1;33m.\u001b[0m\u001b[0mApplication\u001b[0m\u001b[1;33m(\u001b[0m\u001b[1;33m)\u001b[0m\u001b[1;33m.\u001b[0m\u001b[0mstart\u001b[0m\u001b[1;33m(\u001b[0m\u001b[1;34mr\"cmd.exe\"\u001b[0m\u001b[1;33m,\u001b[0m \u001b[0madmin_rights\u001b[0m\u001b[1;33m=\u001b[0m\u001b[1;32mTrue\u001b[0m\u001b[1;33m)\u001b[0m\u001b[1;33m\u001b[0m\u001b[1;33m\u001b[0m\u001b[0m\n\u001b[0m\u001b[0;32m      6\u001b[0m \u001b[1;33m\u001b[0m\u001b[0m\n\u001b[0;32m      7\u001b[0m \u001b[1;31m# Esperar a janela do terminal ser exibida\u001b[0m\u001b[1;33m\u001b[0m\u001b[1;33m\u001b[0m\u001b[0m\n",
      "\u001b[1;31mTypeError\u001b[0m: start() got an unexpected keyword argument 'admin_rights'"
     ]
    }
   ],
   "source": [
    "import pywinauto\n",
    "import time\n",
    "\n",
    "# Abrir o terminal do Windows como administrador\n",
    "app = pywinauto.Application().start(r\"cmd.exe\", admin_rights=True)\n",
    "\n",
    "# Esperar a janela do terminal ser exibida\n",
    "dlg = app.ConsoleWindowClass\n",
    "dlg.wait(\"visible\", timeout=10)\n",
    "\n",
    "# Enviar o comando que requer confirmação\n",
    "dlg.type_keys(\"comando que requer confirmação\")\n",
    "\n",
    "# Localizar a janela de confirmação do UAC\n",
    "confirm_dlg = pywinauto.timings.wait_until_passes(10, 0.5, lambda: pywinauto.findwindows.find_windows(title='User Account Control'))\n",
    "\n",
    "# Aguardar 2 segundos antes de clicar em \"OK\"\n",
    "time.sleep(2)\n",
    "\n",
    "# Clicar em \"OK\" na janela de confirmação do UAC\n",
    "pywinauto.mouse.click(button='left', coords=(confirm_dlg.left + 250, confirm_dlg.top + 100))\n"
   ]
  },
  {
   "cell_type": "code",
   "execution_count": null,
   "id": "09a91652",
   "metadata": {},
   "outputs": [],
   "source": [
    "#pyautogui.click(181, 455)\n",
    "#pyautogui.press('left')\n",
    "#pyautogui.press('enter')\n",
    "pyautogui.hotkey('win','up')\n",
    "temp='sfc /scannow'\n",
    "pyperclip.copy(temp)\n",
    "pyautogui.hotkey('ctrl','v')\n",
    "pyautogui.press('enter')\n",
    "#time.sleep(600)"
   ]
  }
 ],
 "metadata": {
  "kernelspec": {
   "display_name": "Python 3 (ipykernel)",
   "language": "python",
   "name": "python3"
  },
  "language_info": {
   "codemirror_mode": {
    "name": "ipython",
    "version": 3
   },
   "file_extension": ".py",
   "mimetype": "text/x-python",
   "name": "python",
   "nbconvert_exporter": "python",
   "pygments_lexer": "ipython3",
   "version": "3.9.13"
  }
 },
 "nbformat": 4,
 "nbformat_minor": 5
}
